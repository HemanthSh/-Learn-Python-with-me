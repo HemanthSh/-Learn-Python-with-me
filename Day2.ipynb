{
 "cells": [
  {
   "cell_type": "markdown",
   "id": "115af1cc-475d-4e2e-a57d-c98e5343c119",
   "metadata": {},
   "source": [
    "## f-string"
   ]
  },
  {
   "cell_type": "code",
   "execution_count": 2,
   "id": "3c4dfba1-ebbb-4c75-ba06-b162cb270ba5",
   "metadata": {},
   "outputs": [
    {
     "name": "stdout",
     "output_type": "stream",
     "text": [
      "My age is :{age}\n"
     ]
    }
   ],
   "source": [
    "age=30\n",
    "print(\"My age is :{age}\")"
   ]
  },
  {
   "cell_type": "code",
   "execution_count": 3,
   "id": "80e5e856-f004-4676-b734-be2f175d4686",
   "metadata": {},
   "outputs": [
    {
     "name": "stdout",
     "output_type": "stream",
     "text": [
      "My age is :30\n"
     ]
    }
   ],
   "source": [
    "print(f\"My age is :{age}\")"
   ]
  },
  {
   "cell_type": "markdown",
   "id": "005c08e5-0258-4109-83ed-257a4fef0f11",
   "metadata": {},
   "source": [
    "## format () function"
   ]
  },
  {
   "cell_type": "code",
   "execution_count": 4,
   "id": "20a3102e-4c97-457a-9fdf-e8d09afedbb4",
   "metadata": {},
   "outputs": [
    {
     "name": "stdout",
     "output_type": "stream",
     "text": [
      "My name is Arjun and age is 32\n"
     ]
    }
   ],
   "source": [
    "name = \"Arjun\"\n",
    "age = 32\n",
    "print(\"My name is {} and age is {}\".format(name,age))"
   ]
  },
  {
   "cell_type": "code",
   "execution_count": 6,
   "id": "3675bf80-401d-4479-9b23-d1f2ed562ab7",
   "metadata": {},
   "outputs": [
    {
     "name": "stdout",
     "output_type": "stream",
     "text": [
      "My name is Arjun and age is 32\n"
     ]
    }
   ],
   "source": [
    "## placeholder\n",
    "print(\"My name is {a} and age is {b}\".format(a=name,b=age))"
   ]
  },
  {
   "cell_type": "code",
   "execution_count": 9,
   "id": "570f3626-523d-4c73-a386-d3d2fae8d0e4",
   "metadata": {},
   "outputs": [
    {
     "name": "stdout",
     "output_type": "stream",
     "text": [
      "My age is 23 and I have completed my degree in BE: with the name of Ram\n"
     ]
    }
   ],
   "source": [
    "name = \"Ram\"\n",
    "age = 23\n",
    "degree = \"BE\"\n",
    "print(\"My age is {b} and I have completed my degree in {c}: with the name of {a}\" .format(a=name,b=age,c=degree))"
   ]
  },
  {
   "cell_type": "code",
   "execution_count": 1,
   "id": "996e83d3-cdbf-49d7-9756-b106c6ed02b0",
   "metadata": {},
   "outputs": [],
   "source": [
    "## IF statements"
   ]
  },
  {
   "cell_type": "code",
   "execution_count": 15,
   "id": "6feab4bd-8b5e-46d4-b3d3-2d4f19720d38",
   "metadata": {},
   "outputs": [
    {
     "name": "stdin",
     "output_type": "stream",
     "text": [
      "Enter your age 14\n"
     ]
    },
    {
     "name": "stdout",
     "output_type": "stream",
     "text": [
      "You are not eligible to vote\n"
     ]
    }
   ],
   "source": [
    "age = int(input(\"Enter your age\"))\n",
    "if age>=18:\n",
    "    print(\"You are eligible to vote\")\n",
    "else:\n",
    "    print(\"You are not eligible to vote\")"
   ]
  },
  {
   "cell_type": "code",
   "execution_count": 26,
   "id": "1b49d230-e3a1-4221-9249-499030d92f89",
   "metadata": {},
   "outputs": [
    {
     "name": "stdin",
     "output_type": "stream",
     "text": [
      "Enter the patient's age 123\n"
     ]
    },
    {
     "name": "stdout",
     "output_type": "stream",
     "text": [
      "the patient is senior-citizen\n"
     ]
    }
   ],
   "source": [
    "age = int(input(\"Enter the patient's age\"))\n",
    "if age<=15:\n",
    "    print(\"the patient is children\")\n",
    "elif age>=16 and age<=30:\n",
    "    print(\"the patient is adult\")\n",
    "elif age>30 and age<=55:\n",
    "    print(\"the patient is middle-aged\")\n",
    "else: \n",
    "    print(\"the patient is senior-citizen\")"
   ]
  },
  {
   "cell_type": "code",
   "execution_count": 34,
   "id": "3ed1d8f8-80a0-4148-8513-6a7ec391b9d2",
   "metadata": {},
   "outputs": [
    {
     "name": "stdin",
     "output_type": "stream",
     "text": [
      "Enter the product price 3200\n"
     ]
    },
    {
     "name": "stdout",
     "output_type": "stream",
     "text": [
      "the price of the product is 1920.0\n"
     ]
    }
   ],
   "source": [
    "price = int(input(\"Enter the product price\"))\n",
    "if price<500:\n",
    "    print(\"thank you shopping visit us again\")\n",
    "elif price>=500 and price<=1000:\n",
    "    print(\"the price of the product is {}\".format(price*0.9))\n",
    "elif price>1000 and price<=1500:\n",
    "    print(\"the price of the product is {}\".format(price*0.8))\n",
    "elif price>1500 and price<=3000:\n",
    "    print(\"the price of the product is {}\".format(price*0.7))\n",
    "elif price>3000 and price<=5000:\n",
    "    print(\"the price of the product is {}\".format(price*0.6))\n",
    "else:\n",
    "    print(\"the price of the product is {}\".format(price*0.5))"
   ]
  },
  {
   "cell_type": "code",
   "execution_count": 35,
   "id": "9ee0b41b-3a69-4f37-9241-4a946813b5c2",
   "metadata": {},
   "outputs": [
    {
     "data": {
      "text/plain": [
       "True"
      ]
     },
     "execution_count": 35,
     "metadata": {},
     "output_type": "execute_result"
    }
   ],
   "source": [
    "## comparison operator\n",
    "True == True"
   ]
  },
  {
   "cell_type": "code",
   "execution_count": 44,
   "id": "871d2ca5-5766-44a8-a31a-013d170cc9f8",
   "metadata": {},
   "outputs": [
    {
     "name": "stdin",
     "output_type": "stream",
     "text": [
      "Enter the value 123\n"
     ]
    },
    {
     "name": "stdout",
     "output_type": "stream",
     "text": [
      "the value is less than 1000\n"
     ]
    }
   ],
   "source": [
    "## Single statement\n",
    "val = int(input(\"Enter the value\"))\n",
    "if val<=999 : print(\"the value is less than 1000\")\n",
    "else : print(\"the value is greater than 1000\")"
   ]
  },
  {
   "cell_type": "code",
   "execution_count": 46,
   "id": "52504d3b-b8ea-459f-ac1b-ce4920f52cc7",
   "metadata": {},
   "outputs": [
    {
     "name": "stdout",
     "output_type": "stream",
     "text": [
      "23\n",
      "24\n",
      "25\n",
      "26\n",
      "27\n",
      "28\n",
      "29\n",
      "30\n",
      "31\n",
      "32\n",
      "33\n",
      "34\n",
      "35\n",
      "36\n",
      "37\n",
      "38\n",
      "39\n",
      "40\n",
      "41\n",
      "42\n",
      "43\n",
      "44\n",
      "45\n",
      "46\n",
      "47\n",
      "48\n",
      "49\n",
      "50\n",
      "51\n",
      "52\n",
      "53\n",
      "54\n",
      "55\n",
      "56\n",
      "57\n",
      "58\n",
      "59\n",
      "60\n",
      "61\n",
      "TIme for retirement\n"
     ]
    }
   ],
   "source": [
    "## While loop\n",
    "joining_age = 22\n",
    "while joining_age<=60:\n",
    "    joining_age = joining_age+1\n",
    "    print(joining_age)\n",
    "else:\n",
    "    print(\"TIme for retirement\")"
   ]
  },
  {
   "cell_type": "code",
   "execution_count": 52,
   "id": "b4ed16c4-436e-436c-9ee4-ee57a3f51063",
   "metadata": {},
   "outputs": [
    {
     "name": "stdout",
     "output_type": "stream",
     "text": [
      "100\n",
      "200\n",
      "300\n",
      "400\n",
      "500\n",
      "600\n",
      "700\n",
      "800\n",
      "900\n",
      "1000\n",
      "Exceeding budget\n"
     ]
    }
   ],
   "source": [
    "budget = 100\n",
    "while budget<=1001:\n",
    "    print(budget)\n",
    "    budget = budget+100\n",
    "else:\n",
    "    print(\"Exceeding budget\")"
   ]
  },
  {
   "cell_type": "code",
   "execution_count": 58,
   "id": "3a6bc274-c317-4024-bad9-744ce54a1d59",
   "metadata": {},
   "outputs": [
    {
     "name": "stdout",
     "output_type": "stream",
     "text": [
      "900\n",
      "800\n",
      "700\n",
      "600\n",
      "500\n",
      "400\n",
      "300\n",
      "200\n",
      "100\n",
      "0\n",
      "the account balance is 0\n"
     ]
    }
   ],
   "source": [
    "amount = 1000\n",
    "while amount!=0:\n",
    "    amount = amount-100\n",
    "    print(amount)\n",
    "else:\n",
    "    print(\"the account balance is 0\")"
   ]
  },
  {
   "cell_type": "code",
   "execution_count": 60,
   "id": "17a8f002-9b67-47c0-96c8-6c08776ab831",
   "metadata": {},
   "outputs": [
    {
     "name": "stdout",
     "output_type": "stream",
     "text": [
      "5\n",
      "10\n",
      "15\n",
      "20\n",
      "the match is completed\n"
     ]
    }
   ],
   "source": [
    "overs = 0\n",
    "while overs!=20:\n",
    "    overs = overs+5\n",
    "    print(overs)\n",
    "else:\n",
    "    print(\"the match is completed\")"
   ]
  },
  {
   "cell_type": "code",
   "execution_count": 61,
   "id": "bb93b3ba-7dc1-4602-a24c-ac3d6b9c382f",
   "metadata": {},
   "outputs": [],
   "source": [
    "## For loop"
   ]
  },
  {
   "cell_type": "code",
   "execution_count": 62,
   "id": "900f9a55-a2b6-4918-9dfa-96d43ac9a03d",
   "metadata": {},
   "outputs": [],
   "source": [
    "a = [1,2,3,4,\"Rajkumar\",\"King\",\"Apple\"]"
   ]
  },
  {
   "cell_type": "code",
   "execution_count": 63,
   "id": "afd1348a-8106-4bac-82a5-1fc0cf802d92",
   "metadata": {},
   "outputs": [
    {
     "name": "stdout",
     "output_type": "stream",
     "text": [
      "1\n",
      "2\n",
      "3\n",
      "4\n",
      "Rajkumar\n",
      "King\n",
      "Apple\n"
     ]
    }
   ],
   "source": [
    "for x in a:\n",
    "    print(x)"
   ]
  },
  {
   "cell_type": "code",
   "execution_count": 64,
   "id": "2cb723d6-af19-4d02-89aa-1aabc0a6bea4",
   "metadata": {},
   "outputs": [],
   "source": [
    "fruits = [\"apple\",\"cherry\",\"dates\",\"grapes\",\"banana\"]"
   ]
  },
  {
   "cell_type": "code",
   "execution_count": 65,
   "id": "949712b8-ab81-48a9-937c-1c5eea1b4547",
   "metadata": {},
   "outputs": [
    {
     "name": "stdout",
     "output_type": "stream",
     "text": [
      "apple\n",
      "cherry\n",
      "dates\n",
      "grapes\n",
      "banana\n"
     ]
    }
   ],
   "source": [
    "for x in fruits:\n",
    "    print(x)"
   ]
  },
  {
   "cell_type": "code",
   "execution_count": 67,
   "id": "b7427a01-8942-4c8c-aa3c-7373f7ceb07a",
   "metadata": {},
   "outputs": [
    {
     "name": "stdout",
     "output_type": "stream",
     "text": [
      "apple\n",
      "cherry\n",
      "the fruit name is cherry\n",
      "dates\n",
      "grapes\n",
      "banana\n"
     ]
    }
   ],
   "source": [
    "for x in fruits:\n",
    "    print(x)\n",
    "    if x==\"cherry\":\n",
    "        print(\"the fruit name is cherry\")"
   ]
  },
  {
   "cell_type": "code",
   "execution_count": 68,
   "id": "eb59f553-f00a-45d1-bc24-fa2cd97ab3c3",
   "metadata": {},
   "outputs": [
    {
     "name": "stdout",
     "output_type": "stream",
     "text": [
      "applecherrydatesgrapesbanana"
     ]
    }
   ],
   "source": [
    "## print in a single line\n",
    "for x in fruits:\n",
    "    print(x, end='')"
   ]
  },
  {
   "cell_type": "code",
   "execution_count": 69,
   "id": "4c994558-5867-472f-98dd-c6d8cdf256d2",
   "metadata": {},
   "outputs": [
    {
     "name": "stdout",
     "output_type": "stream",
     "text": [
      "m\n",
      "a\n",
      "n\n",
      "g\n",
      "o\n"
     ]
    }
   ],
   "source": [
    "m = \"mango\"\n",
    "for x in m:\n",
    "    print(x)"
   ]
  },
  {
   "cell_type": "code",
   "execution_count": 70,
   "id": "43163d35-7a57-44c3-b0dc-f1ebd94ab4f1",
   "metadata": {},
   "outputs": [
    {
     "data": {
      "text/plain": [
       "'m'"
      ]
     },
     "execution_count": 70,
     "metadata": {},
     "output_type": "execute_result"
    }
   ],
   "source": [
    "m[0]"
   ]
  },
  {
   "cell_type": "code",
   "execution_count": 71,
   "id": "12d7f5c2-59f8-40b1-a5ba-36ea4e27466c",
   "metadata": {},
   "outputs": [
    {
     "data": {
      "text/plain": [
       "'a'"
      ]
     },
     "execution_count": 71,
     "metadata": {},
     "output_type": "execute_result"
    }
   ],
   "source": [
    "m[1]"
   ]
  },
  {
   "cell_type": "code",
   "execution_count": 72,
   "id": "0cfe1a61-39e7-4f72-bd8e-1121dcf376c3",
   "metadata": {},
   "outputs": [
    {
     "data": {
      "text/plain": [
       "'n'"
      ]
     },
     "execution_count": 72,
     "metadata": {},
     "output_type": "execute_result"
    }
   ],
   "source": [
    "m[2]"
   ]
  },
  {
   "cell_type": "code",
   "execution_count": 73,
   "id": "dbf18a5a-96be-4ee9-bda5-4730e1402e02",
   "metadata": {},
   "outputs": [
    {
     "data": {
      "text/plain": [
       "'o'"
      ]
     },
     "execution_count": 73,
     "metadata": {},
     "output_type": "execute_result"
    }
   ],
   "source": [
    "m[4]"
   ]
  },
  {
   "cell_type": "code",
   "execution_count": 76,
   "id": "b023518c-4f95-4f1d-bbd8-6310bb3dff29",
   "metadata": {},
   "outputs": [
    {
     "data": {
      "text/plain": [
       "range(1, 10)"
      ]
     },
     "execution_count": 76,
     "metadata": {},
     "output_type": "execute_result"
    }
   ],
   "source": [
    "## range:- give two values namely start and stop, you can also include step size\n",
    "range(1,10)"
   ]
  },
  {
   "cell_type": "code",
   "execution_count": 77,
   "id": "c375523d-1a78-45e3-b3ad-78fa19f1ab79",
   "metadata": {},
   "outputs": [
    {
     "name": "stdout",
     "output_type": "stream",
     "text": [
      "1\n",
      "2\n",
      "3\n",
      "4\n",
      "5\n",
      "6\n",
      "7\n",
      "8\n",
      "9\n"
     ]
    }
   ],
   "source": [
    "for i in range(1,10):\n",
    "    print(i)"
   ]
  },
  {
   "cell_type": "code",
   "execution_count": 78,
   "id": "82c521ca-02f2-4743-9535-81923ba1e956",
   "metadata": {},
   "outputs": [
    {
     "name": "stdout",
     "output_type": "stream",
     "text": [
      "1\n",
      "3\n",
      "5\n",
      "7\n",
      "9\n"
     ]
    }
   ],
   "source": [
    "## step size 2\n",
    "for i in range(1,10,2):\n",
    "    print(i)"
   ]
  },
  {
   "cell_type": "code",
   "execution_count": 80,
   "id": "3e4cd2f5-a58b-4887-a40c-d3f953e965ff",
   "metadata": {},
   "outputs": [
    {
     "name": "stdout",
     "output_type": "stream",
     "text": [
      "1\n",
      "4\n",
      "7\n"
     ]
    }
   ],
   "source": [
    "## step size 3\n",
    "for i in range(1,10,3):\n",
    "    print(i)"
   ]
  },
  {
   "cell_type": "code",
   "execution_count": 81,
   "id": "52f0856e-f335-43e9-a700-e51fabdfadf3",
   "metadata": {},
   "outputs": [
    {
     "name": "stdout",
     "output_type": "stream",
     "text": [
      "* * * * * * * * * * * * * * * * * * * * * * * * * * * * "
     ]
    }
   ],
   "source": [
    "### Nested Loops\n",
    "n=7\n",
    "\n",
    "for i in range(0,n):\n",
    "    for j in range(0,i+1):\n",
    "        print(\"*\", end=\" \")"
   ]
  },
  {
   "cell_type": "code",
   "execution_count": 83,
   "id": "867dfaa1-67b8-453e-9520-8ea2288c4ac3",
   "metadata": {},
   "outputs": [
    {
     "name": "stdout",
     "output_type": "stream",
     "text": [
      "* \n",
      "* * \n",
      "* * * \n",
      "* * * * \n",
      "* * * * * \n",
      "* * * * * * \n",
      "* * * * * * * \n"
     ]
    }
   ],
   "source": [
    "n=7\n",
    "\n",
    "for i in range(0,n):\n",
    "    for j in range(0,i+1):\n",
    "        print(\"*\", end=\" \")\n",
    "    print(\"\\r\")"
   ]
  },
  {
   "cell_type": "code",
   "execution_count": 118,
   "id": "52297aaf-fc32-4e0e-928b-dd8bb72d0822",
   "metadata": {},
   "outputs": [
    {
     "name": "stdout",
     "output_type": "stream",
     "text": [
      "            *\n",
      "          ***\n",
      "        *****\n",
      "      *******\n",
      "    *********\n",
      "  ***********\n",
      "*************\n"
     ]
    }
   ],
   "source": [
    "   for i in range(n):\n",
    "        # Printing leading spaces to right-align the triangle\n",
    "        print(\" \" * (n * 2 - 2 - i * 2), end=\"\")\n",
    "        \n",
    "        # Printing asterisks\n",
    "        print(\"*\" * (2 * i + 1))"
   ]
  },
  {
   "cell_type": "code",
   "execution_count": 103,
   "id": "b87117ec-9d2a-4c0f-8e46-a476f3243201",
   "metadata": {},
   "outputs": [],
   "source": [
    "## Loop control :- Break & Continue"
   ]
  },
  {
   "cell_type": "code",
   "execution_count": 112,
   "id": "75374aca-0a44-4f66-8fed-058e445972d4",
   "metadata": {},
   "outputs": [
    {
     "name": "stdout",
     "output_type": "stream",
     "text": [
      "apple\n",
      "cherry\n",
      "the fruit is dates\n",
      "dates\n",
      "grapes\n",
      "banana\n"
     ]
    }
   ],
   "source": [
    "for x in fruits:\n",
    "    if x == \"dates\":\n",
    "        print(\"the fruit is dates\")\n",
    "    print(x)"
   ]
  },
  {
   "cell_type": "code",
   "execution_count": 111,
   "id": "c470c832-c56f-48b9-8f97-c5a600012cb2",
   "metadata": {},
   "outputs": [
    {
     "name": "stdout",
     "output_type": "stream",
     "text": [
      "apple\n",
      "cherry\n",
      "the fruit is dates\n"
     ]
    }
   ],
   "source": [
    "for x in fruits:\n",
    "    if x == \"dates\":\n",
    "        print(\"the fruit is dates\")\n",
    "        break\n",
    "    print(x)"
   ]
  },
  {
   "cell_type": "code",
   "execution_count": 113,
   "id": "c83a26c8-ffa4-4a51-abc0-42340c84edaa",
   "metadata": {},
   "outputs": [
    {
     "name": "stdout",
     "output_type": "stream",
     "text": [
      "apple\n",
      "cherry\n",
      "the fruit is dates\n",
      "dates\n",
      "grapes\n",
      "banana\n"
     ]
    }
   ],
   "source": [
    "for x in fruits:\n",
    "    if x == \"dates\":\n",
    "        print(\"the fruit is dates\")\n",
    "        pass\n",
    "    print(x)"
   ]
  },
  {
   "cell_type": "code",
   "execution_count": 114,
   "id": "88e73a19-5686-454f-a362-60f3811f3c25",
   "metadata": {},
   "outputs": [
    {
     "name": "stdout",
     "output_type": "stream",
     "text": [
      "apple\n",
      "cherry\n",
      "the fruit is dates\n",
      "grapes\n",
      "banana\n"
     ]
    }
   ],
   "source": [
    "for x in fruits:\n",
    "    if x == \"dates\":\n",
    "        print(\"the fruit is dates\")\n",
    "        continue\n",
    "    print(x)"
   ]
  },
  {
   "cell_type": "code",
   "execution_count": null,
   "id": "e377338f-ac46-4648-b72c-3cd3260fcdb0",
   "metadata": {},
   "outputs": [],
   "source": []
  }
 ],
 "metadata": {
  "kernelspec": {
   "display_name": "Python 3 (ipykernel)",
   "language": "python",
   "name": "python3"
  },
  "language_info": {
   "codemirror_mode": {
    "name": "ipython",
    "version": 3
   },
   "file_extension": ".py",
   "mimetype": "text/x-python",
   "name": "python",
   "nbconvert_exporter": "python",
   "pygments_lexer": "ipython3",
   "version": "3.10.8"
  }
 },
 "nbformat": 4,
 "nbformat_minor": 5
}
