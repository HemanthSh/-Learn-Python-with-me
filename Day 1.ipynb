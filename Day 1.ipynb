{
 "cells": [
  {
   "cell_type": "code",
   "execution_count": 1,
   "id": "a9cf34c4-c53c-4125-a695-42ae3e81e681",
   "metadata": {},
   "outputs": [
    {
     "name": "stdout",
     "output_type": "stream",
     "text": [
      "Welcome to Data Science class\n"
     ]
    }
   ],
   "source": [
    "print(\"Welcome to Data Science class\")"
   ]
  },
  {
   "cell_type": "code",
   "execution_count": 5,
   "id": "38172447-bd40-494f-b1b4-25de6d7aaa44",
   "metadata": {},
   "outputs": [
    {
     "name": "stdout",
     "output_type": "stream",
     "text": [
      "My name is Ram \n",
      " I work as Data Scientist in ABC company \n",
      " I completed my degree in BE\n"
     ]
    }
   ],
   "source": [
    "print(\"My name is Ram \\n I work as Data Scientist in ABC company \\n I completed my degree in BE\")"
   ]
  },
  {
   "cell_type": "code",
   "execution_count": 6,
   "id": "1b9e70fa-44b1-4633-b322-0d1e92a7951f",
   "metadata": {},
   "outputs": [
    {
     "data": {
      "text/plain": [
       "str"
      ]
     },
     "execution_count": 6,
     "metadata": {},
     "output_type": "execute_result"
    }
   ],
   "source": [
    "type(\" \")"
   ]
  },
  {
   "cell_type": "code",
   "execution_count": 7,
   "id": "99744aa4-e251-42d8-aefd-8b68a58644ea",
   "metadata": {},
   "outputs": [],
   "source": [
    "name = \"Ram\"\n",
    "Education = \"MBA\""
   ]
  },
  {
   "cell_type": "code",
   "execution_count": 8,
   "id": "6fa01e06-2185-45bb-a6d7-f931122ecb1a",
   "metadata": {},
   "outputs": [],
   "source": [
    "number = 23"
   ]
  },
  {
   "cell_type": "code",
   "execution_count": 9,
   "id": "3e8750a5-ffb8-42e1-bdca-733dae132590",
   "metadata": {},
   "outputs": [
    {
     "data": {
      "text/plain": [
       "int"
      ]
     },
     "execution_count": 9,
     "metadata": {},
     "output_type": "execute_result"
    }
   ],
   "source": [
    "type(number)"
   ]
  },
  {
   "cell_type": "code",
   "execution_count": 10,
   "id": "ff72abf5-b257-4049-b8ea-909ad89bae9d",
   "metadata": {},
   "outputs": [],
   "source": [
    "num = 2.5"
   ]
  },
  {
   "cell_type": "code",
   "execution_count": 11,
   "id": "914929b1-e54f-4018-b879-4e628411539f",
   "metadata": {},
   "outputs": [
    {
     "data": {
      "text/plain": [
       "float"
      ]
     },
     "execution_count": 11,
     "metadata": {},
     "output_type": "execute_result"
    }
   ],
   "source": [
    "type(num)"
   ]
  },
  {
   "cell_type": "code",
   "execution_count": 12,
   "id": "5eda9254-6900-4378-8c59-88d2da6a9d64",
   "metadata": {},
   "outputs": [],
   "source": [
    "cnum = 23+4j"
   ]
  },
  {
   "cell_type": "code",
   "execution_count": 13,
   "id": "93b38542-a204-43e5-8fe8-36c01eb05233",
   "metadata": {},
   "outputs": [
    {
     "data": {
      "text/plain": [
       "complex"
      ]
     },
     "execution_count": 13,
     "metadata": {},
     "output_type": "execute_result"
    }
   ],
   "source": [
    "type(cnum)"
   ]
  },
  {
   "cell_type": "code",
   "execution_count": 14,
   "id": "40dbbc15-179b-4633-b59c-388d481eff98",
   "metadata": {},
   "outputs": [],
   "source": [
    "b = True"
   ]
  },
  {
   "cell_type": "code",
   "execution_count": 15,
   "id": "b7885c8e-7b7b-40d7-9c79-30ffb6474d8c",
   "metadata": {},
   "outputs": [
    {
     "data": {
      "text/plain": [
       "bool"
      ]
     },
     "execution_count": 15,
     "metadata": {},
     "output_type": "execute_result"
    }
   ],
   "source": [
    "type(b)"
   ]
  },
  {
   "cell_type": "code",
   "execution_count": 16,
   "id": "82c006c2-c189-4bdc-8828-de102ade2555",
   "metadata": {},
   "outputs": [],
   "source": [
    "a = 'Hello'"
   ]
  },
  {
   "cell_type": "code",
   "execution_count": 17,
   "id": "95a1bc8f-463a-45ff-91b2-a24cda725796",
   "metadata": {},
   "outputs": [
    {
     "data": {
      "text/plain": [
       "str"
      ]
     },
     "execution_count": 17,
     "metadata": {},
     "output_type": "execute_result"
    }
   ],
   "source": [
    "type(a)"
   ]
  },
  {
   "cell_type": "code",
   "execution_count": 18,
   "id": "c4d093a7-5d0a-441a-8257-f40600ac3588",
   "metadata": {},
   "outputs": [],
   "source": [
    "company = \"Google\"\n",
    "Company = \"Microsoft\""
   ]
  },
  {
   "cell_type": "code",
   "execution_count": 19,
   "id": "3930a768-85ed-4417-91b1-c3c1fe51c634",
   "metadata": {},
   "outputs": [
    {
     "name": "stdout",
     "output_type": "stream",
     "text": [
      "Google\n",
      "Microsoft\n"
     ]
    }
   ],
   "source": [
    "print(company)\n",
    "print(Company)"
   ]
  },
  {
   "cell_type": "code",
   "execution_count": 20,
   "id": "78aeff15-7003-4188-bcad-4c43a081a8d8",
   "metadata": {},
   "outputs": [
    {
     "data": {
      "text/plain": [
       "True"
      ]
     },
     "execution_count": 20,
     "metadata": {},
     "output_type": "execute_result"
    }
   ],
   "source": [
    "True and True"
   ]
  },
  {
   "cell_type": "code",
   "execution_count": 21,
   "id": "534c4421-1a41-4ada-8007-1af3f2de806f",
   "metadata": {},
   "outputs": [
    {
     "data": {
      "text/plain": [
       "False"
      ]
     },
     "execution_count": 21,
     "metadata": {},
     "output_type": "execute_result"
    }
   ],
   "source": [
    "True and False"
   ]
  },
  {
   "cell_type": "code",
   "execution_count": 22,
   "id": "e1967214-ed55-4b95-9509-b75696b5e346",
   "metadata": {},
   "outputs": [
    {
     "data": {
      "text/plain": [
       "False"
      ]
     },
     "execution_count": 22,
     "metadata": {},
     "output_type": "execute_result"
    }
   ],
   "source": [
    "False and False"
   ]
  },
  {
   "cell_type": "code",
   "execution_count": 23,
   "id": "f21623e8-4008-42bd-8ba2-61ae0222c9a8",
   "metadata": {},
   "outputs": [
    {
     "data": {
      "text/plain": [
       "False"
      ]
     },
     "execution_count": 23,
     "metadata": {},
     "output_type": "execute_result"
    }
   ],
   "source": [
    "False and True"
   ]
  },
  {
   "cell_type": "code",
   "execution_count": 24,
   "id": "4bff3524-0734-49e5-b723-bc3bebdea314",
   "metadata": {},
   "outputs": [
    {
     "data": {
      "text/plain": [
       "True"
      ]
     },
     "execution_count": 24,
     "metadata": {},
     "output_type": "execute_result"
    }
   ],
   "source": [
    "True or True"
   ]
  },
  {
   "cell_type": "code",
   "execution_count": 25,
   "id": "0fc2ebc8-3b2e-41dc-90ea-2db152d85732",
   "metadata": {},
   "outputs": [
    {
     "data": {
      "text/plain": [
       "True"
      ]
     },
     "execution_count": 25,
     "metadata": {},
     "output_type": "execute_result"
    }
   ],
   "source": [
    "True or False"
   ]
  },
  {
   "cell_type": "code",
   "execution_count": 26,
   "id": "6aee759e-d63a-4992-a7fa-c0fe92a0eab1",
   "metadata": {},
   "outputs": [
    {
     "data": {
      "text/plain": [
       "True"
      ]
     },
     "execution_count": 26,
     "metadata": {},
     "output_type": "execute_result"
    }
   ],
   "source": [
    "False or True"
   ]
  },
  {
   "cell_type": "code",
   "execution_count": 28,
   "id": "7b34200f-9614-47e4-ac08-4ee85744da1c",
   "metadata": {},
   "outputs": [
    {
     "data": {
      "text/plain": [
       "False"
      ]
     },
     "execution_count": 28,
     "metadata": {},
     "output_type": "execute_result"
    }
   ],
   "source": [
    "False or False"
   ]
  },
  {
   "cell_type": "code",
   "execution_count": 29,
   "id": "58f3a7af-b5cd-4dd6-b132-22f12b26c4ea",
   "metadata": {},
   "outputs": [
    {
     "data": {
      "text/plain": [
       "False"
      ]
     },
     "execution_count": 29,
     "metadata": {},
     "output_type": "execute_result"
    }
   ],
   "source": [
    "not True"
   ]
  },
  {
   "cell_type": "code",
   "execution_count": 30,
   "id": "ac33be5f-cf3e-47af-8314-11fd7447c032",
   "metadata": {},
   "outputs": [
    {
     "data": {
      "text/plain": [
       "True"
      ]
     },
     "execution_count": 30,
     "metadata": {},
     "output_type": "execute_result"
    }
   ],
   "source": [
    "not False"
   ]
  },
  {
   "cell_type": "code",
   "execution_count": 31,
   "id": "ebcc5033-1221-45ad-bc52-0749b0197daa",
   "metadata": {},
   "outputs": [
    {
     "data": {
      "text/plain": [
       "bool"
      ]
     },
     "execution_count": 31,
     "metadata": {},
     "output_type": "execute_result"
    }
   ],
   "source": [
    "type(False)"
   ]
  },
  {
   "cell_type": "code",
   "execution_count": 32,
   "id": "997f390a-ac3b-4874-8c94-2e15aa53786a",
   "metadata": {},
   "outputs": [
    {
     "data": {
      "text/plain": [
       "False"
      ]
     },
     "execution_count": 32,
     "metadata": {},
     "output_type": "execute_result"
    }
   ],
   "source": [
    "bool(0)"
   ]
  },
  {
   "cell_type": "code",
   "execution_count": 33,
   "id": "1e10553c-5e4f-4695-8df2-8e1710a610b0",
   "metadata": {},
   "outputs": [
    {
     "data": {
      "text/plain": [
       "True"
      ]
     },
     "execution_count": 33,
     "metadata": {},
     "output_type": "execute_result"
    }
   ],
   "source": [
    "bool(1)"
   ]
  },
  {
   "cell_type": "code",
   "execution_count": 37,
   "id": "deb65bc0-0402-4100-be5f-42be05889cb1",
   "metadata": {},
   "outputs": [],
   "source": [
    "e = str(10)"
   ]
  },
  {
   "cell_type": "code",
   "execution_count": 38,
   "id": "2b65a856-bf39-41c8-a4ea-3a6853897955",
   "metadata": {},
   "outputs": [
    {
     "data": {
      "text/plain": [
       "str"
      ]
     },
     "execution_count": 38,
     "metadata": {},
     "output_type": "execute_result"
    }
   ],
   "source": [
    "type(e)"
   ]
  },
  {
   "cell_type": "code",
   "execution_count": 39,
   "id": "a9082051-4a94-42f8-b12a-f48084514881",
   "metadata": {},
   "outputs": [],
   "source": [
    "f = int(\"123\")"
   ]
  },
  {
   "cell_type": "code",
   "execution_count": 40,
   "id": "523d5fc1-53d3-4005-a946-d124f46f060e",
   "metadata": {},
   "outputs": [
    {
     "data": {
      "text/plain": [
       "int"
      ]
     },
     "execution_count": 40,
     "metadata": {},
     "output_type": "execute_result"
    }
   ],
   "source": [
    "type(f)"
   ]
  },
  {
   "cell_type": "code",
   "execution_count": 41,
   "id": "dbf96a85-68ea-4f4c-b45c-c1e3bcdef786",
   "metadata": {},
   "outputs": [
    {
     "data": {
      "text/plain": [
       "2"
      ]
     },
     "execution_count": 41,
     "metadata": {},
     "output_type": "execute_result"
    }
   ],
   "source": [
    "int(\"1\") + int(\"1\")"
   ]
  },
  {
   "cell_type": "code",
   "execution_count": 42,
   "id": "6a744c41-3a64-44fa-8f36-d2087632cfaa",
   "metadata": {},
   "outputs": [
    {
     "data": {
      "text/plain": [
       "'123456'"
      ]
     },
     "execution_count": 42,
     "metadata": {},
     "output_type": "execute_result"
    }
   ],
   "source": [
    "str(\"123\") + str(\"456\")"
   ]
  },
  {
   "cell_type": "code",
   "execution_count": 43,
   "id": "cab41d3d-7ff8-4591-af74-27da499f529c",
   "metadata": {},
   "outputs": [
    {
     "data": {
      "text/plain": [
       "'1111111111'"
      ]
     },
     "execution_count": 43,
     "metadata": {},
     "output_type": "execute_result"
    }
   ],
   "source": [
    "\"1\" * 10"
   ]
  },
  {
   "cell_type": "code",
   "execution_count": null,
   "id": "c55a02fd-127b-41ca-b2d8-47f7e2644ff9",
   "metadata": {},
   "outputs": [],
   "source": []
  }
 ],
 "metadata": {
  "kernelspec": {
   "display_name": "Python 3 (ipykernel)",
   "language": "python",
   "name": "python3"
  },
  "language_info": {
   "codemirror_mode": {
    "name": "ipython",
    "version": 3
   },
   "file_extension": ".py",
   "mimetype": "text/x-python",
   "name": "python",
   "nbconvert_exporter": "python",
   "pygments_lexer": "ipython3",
   "version": "3.10.8"
  }
 },
 "nbformat": 4,
 "nbformat_minor": 5
}
